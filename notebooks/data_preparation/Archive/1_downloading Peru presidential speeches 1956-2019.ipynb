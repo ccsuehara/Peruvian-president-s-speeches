{
 "cells": [
  {
   "cell_type": "markdown",
   "metadata": {},
   "source": [
    "# Getting the data\n",
    "\n",
    "All this work is based in a notebook we created for the course's homeworks."
   ]
  },
  {
   "cell_type": "code",
   "execution_count": 14,
   "metadata": {},
   "outputs": [],
   "source": [
    "import requests\n",
    "import pandas\n",
    "import pandas as pd\n",
    "import pdfminer.pdfinterp\n",
    "import pdfminer.converter\n",
    "import pdfminer.layout\n",
    "import pdfminer.pdfpage\n",
    "\n",
    "import csv\n",
    "import re\n",
    "import urllib.parse\n",
    "import io\n",
    "import os.path\n",
    "import os\n",
    "\n",
    "import os\n",
    "from os import listdir\n",
    "from os.path import isfile, join\n",
    "\n",
    "import random\n",
    "random.seed(853915)\n"
   ]
  },
  {
   "cell_type": "markdown",
   "metadata": {},
   "source": [
    "Defining functions:"
   ]
  },
  {
   "cell_type": "code",
   "execution_count": 6,
   "metadata": {},
   "outputs": [],
   "source": [
    "def downloadIfNeeded(targetURL, outputFile, **openkwargs):\n",
    "    if not os.path.isfile(outputFile):\n",
    "        outputDir = os.path.dirname(outputFile)\n",
    "        #This function is a more general os.mkdir()\n",
    "        if len(outputDir) > 0:\n",
    "            os.makedirs(outputDir, exist_ok = True)\n",
    "        r = requests.get(targetURL, stream=True)\n",
    "        #Using a closure like this is generally better than having to\n",
    "        #remember to close the file. There are ways to make this function\n",
    "        #work as a closure too\n",
    "        with open(outputFile, 'wb') as f:\n",
    "            f.write(r.content)\n",
    "    return open(outputFile, **openkwargs)"
   ]
  },
  {
   "cell_type": "code",
   "execution_count": 7,
   "metadata": {},
   "outputs": [],
   "source": [
    "def readPDF(pdfFile):\n",
    "    #Based on code from http://stackoverflow.com/a/20905381/4955164\n",
    "    #Using utf-8, if there are a bunch of random symbols try changing this\n",
    "    codec = 'utf-8'\n",
    "    rsrcmgr = pdfminer.pdfinterp.PDFResourceManager()\n",
    "    retstr = io.StringIO()\n",
    "    layoutParams = pdfminer.layout.LAParams()\n",
    "    device = pdfminer.converter.TextConverter(rsrcmgr, retstr, laparams = layoutParams) #, codec = codec)\n",
    "    #We need a device and an interpreter\n",
    "    interpreter = pdfminer.pdfinterp.PDFPageInterpreter(rsrcmgr, device)\n",
    "    password = ''\n",
    "    maxpages = 0\n",
    "    caching = True\n",
    "    pagenos=set()\n",
    "    for page in pdfminer.pdfpage.PDFPage.get_pages(pdfFile, pagenos, maxpages=maxpages, password=password,caching=caching, check_extractable=True):\n",
    "        interpreter.process_page(page)\n",
    "    device.close()\n",
    "    returnedString = retstr.getvalue()\n",
    "    retstr.close()\n",
    "    return returnedString"
   ]
  },
  {
   "cell_type": "markdown",
   "metadata": {},
   "source": [
    "Defining the names of the `PDF` files we will download:"
   ]
  },
  {
   "cell_type": "code",
   "execution_count": 4,
   "metadata": {},
   "outputs": [],
   "source": [
    "url_filenames = ['mensaje-2019-01-vizcarra.pdf',\n",
    "                 'mensaje-2018-4.pdf',\n",
    "                 'mensaje-2018-2.pdf', # Agrega el primer mensaje presidencial de vizcarra\n",
    "                 'mensaje-2017-ppk.pdf',\n",
    "                 'mensaje-2016-ppk.pdf',\n",
    "                 'mensaje-2015-oh.pdf',\n",
    "                 'mensaje-2014-oh.pdf',\n",
    "                 'mensaje-2013-oh.pdf',\n",
    "                 'mensaje-2012-oh.pdf',\n",
    "                 'mensaje-2011-oh.pdf',\n",
    "                 'mensaje-2010-ag.pdf',\n",
    "                 'mensaje-2009-ag.pdf',\n",
    "                 'mensaje-2008-ag.pdf',\n",
    "                 'mensaje-2007-ag.pdf',\n",
    "                 'mensaje-2006-ag.pdf',\n",
    "                 'mensaje-2005-at.pdf',\n",
    "                 'mensaje-2004-at.pdf',\n",
    "                 'mensaje-2003-at.pdf',\n",
    "                 'mensaje-2002-at.pdf',\n",
    "                 'mensaje-2001-at.pdf',\n",
    "                'mensaje-2000-vp-noviembre.pdf']"
   ]
  },
  {
   "cell_type": "code",
   "execution_count": 5,
   "metadata": {},
   "outputs": [],
   "source": [
    "url_filenames2 = ['mensaje-2000-af.pdf',\n",
    "                 'mensaje-1999-af.pdf',\n",
    "                 'mensaje-1998-af.pdf',\n",
    "                 'mensaje-1997-af.pdf',\n",
    "                 'mensaje-1996-af.pdf',\n",
    "                 'mensaje-1995-af.pdf',\n",
    "                 'mensaje-1994-af.pdf',\n",
    "                 'mensaje-1993-af.pdf',\n",
    "                 'mensaje-1992-af.pdf',\n",
    "                 'mensaje-1991-af.pdf',\n",
    "                 'mensaje-1990-af.pdf',\n",
    "                 'mensaje-1989-ag.pdf',\n",
    "                 'mensaje-1988-ag.pdf',\n",
    "                 'mensaje-1987-ag.pdf',\n",
    "                 'mensaje-1986-ag.pdf',\n",
    "                 'mensaje-1985-ag.pdf',\n",
    "                 'mensaje-1984-fbt.pdf',\n",
    "                 'mensaje-1983-fbt.pdf',\n",
    "                 'mensaje-1982-fbt.pdf',\n",
    "                 'mensaje-1981-fbt.pdf',\n",
    "                 'mensaje-1980-fbt.pdf']"
   ]
  },
  {
   "cell_type": "code",
   "execution_count": 6,
   "metadata": {},
   "outputs": [],
   "source": [
    "url_filenames3 = ['mensaje-1979.pdf',\n",
    "                    'mensaje-1978-1.pdf',\n",
    "                    'mensaje-1977.pdf',\n",
    "                    'mensaje-1976.pdf',\n",
    "                    'mensaje-1975-1.pdf',\n",
    "                    'mensaje-1974.pdf',\n",
    "                    'mensaje-1973.pdf',\n",
    "                    'mensaje-1972.pdf',\n",
    "                    'mensaje-1971.pdf',\n",
    "                    'mensaje-1970.pdf',\n",
    "                    'mensaje-1969.pdf',\n",
    "                    'mensaje-1968-1.pdf',\n",
    "                    'mensaje-1967.pdf',\n",
    "                    'mensaje-1966.pdf',\n",
    "                    'mensaje-1965.pdf',\n",
    "                    'mensaje-1964.pdf',\n",
    "                    'mensaje-1963-2.pdf',\n",
    "                    'mensaje-1962.pdf',\n",
    "                    'mensaje-1961.pdf',\n",
    "                    'mensaje-1960.pdf',\n",
    "                    'mensaje-1959.pdf',\n",
    "                    'mensaje-1958.pdf',\n",
    "                    'mensaje-1957.pdf',\n",
    "                    'mensaje-1956-2.pdf']\n",
    "\n",
    "\n",
    "key_president = {'mensaje-1979.pdf':'fmb',\n",
    "                'mensaje-1978-1.pdf':'fmb',\n",
    "                'mensaje-1977.pdf':'fmb',\n",
    "                'mensaje-1976.pdf':'fmb',\n",
    "                'mensaje-1975-1.pdf':'jva',\n",
    "                'mensaje-1974.pdf':'jva',\n",
    "                'mensaje-1973.pdf':'jva',\n",
    "                'mensaje-1972.pdf':'jva',\n",
    "                'mensaje-1971.pdf':'jva',\n",
    "                'mensaje-1970.pdf':'jva',\n",
    "                'mensaje-1969.pdf':'jva',\n",
    "                'mensaje-1968-1.pdf':'fbt',\n",
    "                'mensaje-1967.pdf':'fbt',\n",
    "                'mensaje-1966.pdf':'fbt',\n",
    "                'mensaje-1965.pdf':'fbt',\n",
    "                'mensaje-1964.pdf':'fbt',\n",
    "                'mensaje-1963-2.pdf':'fbt',\n",
    "                'mensaje-1962.pdf':'nll',\n",
    "                'mensaje-1961.pdf':'mpu',\n",
    "                'mensaje-1960.pdf':'mpu',\n",
    "                'mensaje-1959.pdf':'mpu',\n",
    "                'mensaje-1958.pdf':'mpu',\n",
    "                'mensaje-1957.pdf':'mpu',\n",
    "                'mensaje-1956-2.pdf':'mpu'\n",
    "                }"
   ]
  },
  {
   "cell_type": "markdown",
   "metadata": {},
   "source": [
    "Getting the files and storing them as `PDF`s and `TXT`s:"
   ]
  },
  {
   "cell_type": "code",
   "execution_count": 8,
   "metadata": {
    "scrolled": true
   },
   "outputs": [],
   "source": [
    "url_prefix = 'http://www.congreso.gob.pe/Docs/participacion/museo/congreso/files/mensajes/2001-2020/files/'\n",
    "file_prefix_pdf = '../../data/presidentialSpeechPeru/pdf/'\n",
    "file_prefix_txt = '../../data/presidentialSpeechPeru/txt/'\n",
    "\n",
    "for speech_file in url_filenames:\n",
    "    file = downloadIfNeeded(url_prefix + speech_file, file_prefix_pdf + speech_file, mode = 'rb')\n",
    "    speech = readPDF(file)\n",
    "    name = re.sub('.pdf', '', speech_file)\n",
    "    with open(file_prefix_txt + name + '.txt', 'w') as text_file:\n",
    "        text_file.write(speech)"
   ]
  },
  {
   "cell_type": "code",
   "execution_count": 14,
   "metadata": {
    "scrolled": true
   },
   "outputs": [],
   "source": [
    "url_prefix = 'http://www.congreso.gob.pe/Docs/participacion/museo/congreso/files/mensajes/1981-2000/files/'\n",
    "\n",
    "for speech_file in url_filenames2:\n",
    "    file = downloadIfNeeded(url_prefix + speech_file, file_prefix_pdf + speech_file, mode = 'rb')\n",
    "    speech = readPDF(file)\n",
    "    name = re.sub('.pdf', '', speech_file)\n",
    "    with open(file_prefix_txt + name + '.txt', 'w') as text_file:\n",
    "        text_file.write(speech)"
   ]
  },
  {
   "cell_type": "code",
   "execution_count": 15,
   "metadata": {},
   "outputs": [
    {
     "name": "stdout",
     "output_type": "stream",
     "text": [
      "mensaje-1979.pdf\n",
      "mensaje-1978-1.pdf\n",
      "mensaje-1977.pdf\n",
      "mensaje-1976.pdf\n",
      "mensaje-1975-1.pdf\n",
      "mensaje-1974.pdf\n",
      "mensaje-1973.pdf\n",
      "mensaje-1972.pdf\n",
      "mensaje-1971.pdf\n",
      "mensaje-1970.pdf\n",
      "mensaje-1969.pdf\n",
      "mensaje-1968-1.pdf\n",
      "mensaje-1967.pdf\n",
      "mensaje-1966.pdf\n",
      "mensaje-1965.pdf\n",
      "mensaje-1964.pdf\n",
      "mensaje-1963-2.pdf\n",
      "mensaje-1962.pdf\n",
      "mensaje-1961.pdf\n",
      "mensaje-1960.pdf\n",
      "mensaje-1959.pdf\n",
      "mensaje-1958.pdf\n",
      "mensaje-1957.pdf\n",
      "mensaje-1956-2.pdf\n"
     ]
    }
   ],
   "source": [
    "url_prefix = 'http://www.congreso.gob.pe/Docs/participacion/museo/congreso/files/mensajes/1961-1980/files/'\n",
    "\n",
    "for speech_file in url_filenames3:\n",
    "    file = downloadIfNeeded(url_prefix + speech_file, file_prefix_pdf + speech_file, mode = 'rb')\n",
    "    speech = readPDF(file)\n",
    "    name = re.sub('-1\\.', '.', speech_file)\n",
    "    name = re.sub('-2\\.', '.', name)\n",
    "    name = re.sub('.pdf', '', name)\n",
    "    president = key_president[speech_file]\n",
    "    with open(file_prefix_txt + name + \"-\" + president +'.txt', 'w') as text_file:\n",
    "        text_file.write(speech)"
   ]
  },
  {
   "cell_type": "code",
   "execution_count": 9,
   "metadata": {},
   "outputs": [],
   "source": [
    "url_sagasti = \"https://www.congreso.gob.pe/Docs/spa/files/discursos/discurso-asuncion-(17.11.20).pdf\"\n",
    "key_last = {\"https://www.congreso.gob.pe/Docs/spa/files/discursos/discurso-asuncion-(17.11.20).pdf\":\"fsh\"}\n",
    "file_prefix_pdf = '../../data/presidentialSpeechPeru/pdf/'\n",
    "file_prefix_txt = '../../data/presidentialSpeechPeru/txt/'"
   ]
  },
  {
   "cell_type": "code",
   "execution_count": 12,
   "metadata": {},
   "outputs": [],
   "source": [
    "name = 'mensaje-2020-fsh'\n",
    "\n",
    "file = downloadIfNeeded(url_sagasti,file_prefix_pdf + name + '.pdf' ,mode = 'rb')\n",
    "speech = readPDF(file)\n",
    "\n",
    "with open(file_prefix_txt + name + '.txt', 'w') as text_file:\n",
    "        text_file.write(speech)"
   ]
  },
  {
   "cell_type": "code",
   "execution_count": null,
   "metadata": {},
   "outputs": [],
   "source": []
  }
 ],
 "metadata": {
  "kernelspec": {
   "display_name": "Python 3",
   "language": "python",
   "name": "python3"
  },
  "language_info": {
   "codemirror_mode": {
    "name": "ipython",
    "version": 3
   },
   "file_extension": ".py",
   "mimetype": "text/x-python",
   "name": "python",
   "nbconvert_exporter": "python",
   "pygments_lexer": "ipython3",
   "version": "3.8.5"
  }
 },
 "nbformat": 4,
 "nbformat_minor": 4
}
