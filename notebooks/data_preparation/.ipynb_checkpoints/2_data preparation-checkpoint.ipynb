{
 "cells": [
  {
   "cell_type": "code",
   "execution_count": 1,
   "metadata": {},
   "outputs": [],
   "source": [
    "%load_ext autoreload\n",
    "%autoreload 2"
   ]
  },
  {
   "cell_type": "code",
   "execution_count": null,
   "metadata": {},
   "outputs": [],
   "source": [
    "import pandas as pd\n",
    "import re\n",
    "import lucem_illud_2020\n",
    "import spacy\n",
    "\n",
    "import sys\n",
    "sys.path.insert(0, '../scripts')\n",
    "from data_cleaning import *"
   ]
  },
  {
   "cell_type": "code",
   "execution_count": null,
   "metadata": {},
   "outputs": [],
   "source": [
    "speeches_dir = '../data/presidentialSpeechPeru/txt/'"
   ]
  },
  {
   "cell_type": "code",
   "execution_count": null,
   "metadata": {},
   "outputs": [],
   "source": [
    "speeches_raw = loadcorpus(speeches_dir)"
   ]
  },
  {
   "cell_type": "code",
   "execution_count": null,
   "metadata": {},
   "outputs": [],
   "source": [
    "speech = pd.DataFrame()\n",
    "filenames = []\n",
    "raw = []\n",
    "for filename, raw_speech in speeches_raw.items():\n",
    "    print(filename)\n",
    "    filenames.append(filename)\n",
    "    raw.append(raw_speech)\n",
    "speech['filename'] = filenames\n",
    "speech['raw text'] = raw\n",
    "\n",
    "pattern = re.compile('[0-9]{4}')\n",
    "speech['year'] = speech['filename'].apply(lambda x: pattern.search(x).group(0))\n",
    "speech = speech.sort_values(by='year').reset_index(drop=True)"
   ]
  },
  {
   "cell_type": "code",
   "execution_count": null,
   "metadata": {},
   "outputs": [],
   "source": [
    "speech['cleaned text'] = speech['raw text'].apply(lambda x: clean_raw_text(x))"
   ]
  },
  {
   "cell_type": "code",
   "execution_count": null,
   "metadata": {},
   "outputs": [],
   "source": [
    "speech.loc[(speech['year'].astype('int32') >= 1956) & \\\n",
    "           (speech['year'].astype('int32') <= 1961), 'administration'] = 'Prado'\n",
    "\n",
    "speech.loc[(speech['year'].astype('int32') >= 1962) & \\\n",
    "           (speech['year'].astype('int32') <= 1962), 'administration'] = 'Lindley'\n",
    "\n",
    "speech.loc[(speech['year'].astype('int32') >= 1963) & \\\n",
    "           (speech['year'].astype('int32') <= 1968), 'administration'] = 'Belaunde(1)'\n",
    "\n",
    "speech.loc[(speech['year'].astype('int32') >= 1975) & \\\n",
    "           (speech['year'].astype('int32') <= 1969), 'administration'] = 'Velasco'\n",
    "\n",
    "speech.loc[(speech['year'].astype('int32') >= 1976) & \\\n",
    "           (speech['year'].astype('int32') <= 1979), 'administration'] = 'Morales Bermudez'\n",
    "\n",
    "speech.loc[(speech['year'].astype('int32') >= 1980) & \\\n",
    "           (speech['year'].astype('int32') <= 1984), 'administration'] = 'Belaunde(2)'\n",
    "\n",
    "speech.loc[(speech['year'].astype('int32') >= 1985) & \\\n",
    "           (speech['year'].astype('int32') <= 1989), 'administration'] = 'Garcia(1)'\n",
    "\n",
    "speech.loc[(speech['year'].astype('int32') >= 1990) & \\\n",
    "           (speech['year'].astype('int32') <= 1994), 'administration'] = 'Fujimori(1)'\n",
    "\n",
    "speech.loc[(speech['year'].astype('int32') >= 1995) & \\\n",
    "           (speech['year'].astype('int32') <= 2000), 'administration'] = 'Fujimori(2)'\n",
    "\n",
    "speech.loc[(speech['year'].astype('int32') >= 2001) & \\\n",
    "           (speech['year'].astype('int32') <= 2005), 'administration'] = 'Toledo'\n",
    "\n",
    "speech.loc[(speech['year'].astype('int32') >= 2006) & \\\n",
    "           (speech['year'].astype('int32') <= 2010), 'administration'] = 'Garcia(2)'\n",
    "\n",
    "speech.loc[(speech['year'].astype('int32') >= 2011) & \\\n",
    "           (speech['year'].astype('int32') <= 2015), 'administration'] = 'Humala'\n",
    "\n",
    "speech.loc[(speech['year'].astype('int32') >= 2016), 'administration'] = 'Kuzcynski/Vizcarra'\n",
    "\n",
    "speech.loc[(speech['year'].astype('int32') >= 1956) & \\\n",
    "           (speech['year'].astype('int32') <= 1961), 'president'] = 'Prado'\n",
    "\n",
    "speech.loc[(speech['year'].astype('int32') >= 1962) & \\\n",
    "           (speech['year'].astype('int32') <= 1962), 'president'] = 'Lindley'\n",
    "\n",
    "speech.loc[(speech['year'].astype('int32') >= 1963) & \\\n",
    "           (speech['year'].astype('int32') <= 1968), 'president'] = 'Belaunde'\n",
    "\n",
    "speech.loc[(speech['year'].astype('int32') >= 1975) & \\\n",
    "           (speech['year'].astype('int32') <= 1969), 'president'] = 'Velasco'\n",
    "\n",
    "speech.loc[(speech['year'].astype('int32') >= 1976) & \\\n",
    "           (speech['year'].astype('int32') <= 1979), 'president'] = 'Morales Bermudez'\n",
    "\n",
    "speech.loc[(speech['year'].astype('int32') >= 1980) & \\\n",
    "           (speech['year'].astype('int32') <= 1984), 'president'] = 'Belaunde'\n",
    "\n",
    "speech.loc[(speech['year'].astype('int32') >= 1985) & \\\n",
    "           (speech['year'].astype('int32') <= 1989), 'president'] = 'Garcia'\n",
    "\n",
    "speech.loc[(speech['year'].astype('int32') >= 1990) & \\\n",
    "           (speech['year'].astype('int32') <= 2000), 'president'] = 'Fujimori'\n",
    "\n",
    "speech.loc[(speech['year'].astype('int32') >= 2001) & \\\n",
    "           (speech['year'].astype('int32') <= 2005), 'president'] = 'Toledo'\n",
    "\n",
    "speech.loc[(speech['year'].astype('int32') >= 2006) & \\\n",
    "           (speech['year'].astype('int32') <= 2010), 'president'] = 'Garcia'\n",
    "\n",
    "speech.loc[(speech['year'].astype('int32') >= 2011) & \\\n",
    "           (speech['year'].astype('int32') <= 2015), 'president'] = 'Humala'\n",
    "\n",
    "speech.loc[(speech['year'].astype('int32') >= 2016) & \\\n",
    "           (speech['year'].astype('int32') <= 2017), 'president'] = 'Kuzcynski'\n",
    "\n",
    "speech.loc[(speech['year'].astype('int32') >= 2018), 'president'] = 'Vizcarra'\n",
    "\n",
    "speech['year-president'] = speech['year'] + '-' + speech['president']"
   ]
  },
  {
   "cell_type": "code",
   "execution_count": null,
   "metadata": {},
   "outputs": [],
   "source": [
    "speech.head()"
   ]
  },
  {
   "cell_type": "code",
   "execution_count": null,
   "metadata": {},
   "outputs": [],
   "source": [
    "speech['tokenized_words'] = speech['cleaned text'].apply(lambda x: lucem_illud_2020.word_tokenize(x))"
   ]
  },
  {
   "cell_type": "code",
   "execution_count": null,
   "metadata": {},
   "outputs": [],
   "source": [
    "countsDict = {}\n",
    "for word in speech['tokenized_words'].sum():\n",
    "    if word in countsDict:\n",
    "        countsDict[word] += 1\n",
    "    else:\n",
    "        countsDict[word] = 1\n",
    "word_counts = sorted(countsDict.items(), key = lambda x : x[1], reverse = True)\n",
    "word_counts[:20]"
   ]
  },
  {
   "cell_type": "code",
   "execution_count": null,
   "metadata": {},
   "outputs": [],
   "source": [
    "#nlp = spacy.load(\"es\")"
   ]
  }
 ],
 "metadata": {
  "kernelspec": {
   "display_name": "Python 3",
   "language": "python",
   "name": "python3"
  },
  "language_info": {
   "codemirror_mode": {
    "name": "ipython",
    "version": 3
   },
   "file_extension": ".py",
   "mimetype": "text/x-python",
   "name": "python",
   "nbconvert_exporter": "python",
   "pygments_lexer": "ipython3",
   "version": "3.6.9"
  }
 },
 "nbformat": 4,
 "nbformat_minor": 4
}
