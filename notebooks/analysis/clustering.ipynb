{
 "cells": [
  {
   "cell_type": "code",
   "execution_count": 1,
   "metadata": {},
   "outputs": [],
   "source": [
    "import pandas as pd\n",
    "import sklearn\n",
    "import sklearn.feature_extraction.text"
   ]
  },
  {
   "cell_type": "code",
   "execution_count": 2,
   "metadata": {},
   "outputs": [],
   "source": [
    "file = '../../data/clean/speech.pkl'"
   ]
  },
  {
   "cell_type": "code",
   "execution_count": 3,
   "metadata": {},
   "outputs": [],
   "source": [
    "df = pd.read_pickle(file)"
   ]
  },
  {
   "cell_type": "code",
   "execution_count": 4,
   "metadata": {},
   "outputs": [
    {
     "data": {
      "text/html": [
       "<div>\n",
       "<style scoped>\n",
       "    .dataframe tbody tr th:only-of-type {\n",
       "        vertical-align: middle;\n",
       "    }\n",
       "\n",
       "    .dataframe tbody tr th {\n",
       "        vertical-align: top;\n",
       "    }\n",
       "\n",
       "    .dataframe thead th {\n",
       "        text-align: right;\n",
       "    }\n",
       "</style>\n",
       "<table border=\"1\" class=\"dataframe\">\n",
       "  <thead>\n",
       "    <tr style=\"text-align: right;\">\n",
       "      <th></th>\n",
       "      <th>filename</th>\n",
       "      <th>raw text</th>\n",
       "      <th>year</th>\n",
       "      <th>cleaned text</th>\n",
       "      <th>administration</th>\n",
       "      <th>president</th>\n",
       "      <th>year-president</th>\n",
       "      <th>tokenized_words</th>\n",
       "      <th>normalized_sents</th>\n",
       "    </tr>\n",
       "  </thead>\n",
       "  <tbody>\n",
       "    <tr>\n",
       "      <th>0</th>\n",
       "      <td>mensaje-1956-mpu.txt</td>\n",
       "      <td>[MENSAJE DEL PRESIDENTE CONSTITUCIONAL DEL PER...</td>\n",
       "      <td>1956</td>\n",
       "      <td>MENSAJE DEL PRESIDENTE CONSTITUCIONAL DEL PERÚ...</td>\n",
       "      <td>Prado</td>\n",
       "      <td>Prado</td>\n",
       "      <td>1956-Prado</td>\n",
       "      <td>[MENSAJE, DEL, PRESIDENTE, CONSTITUCIONAL, DEL...</td>\n",
       "      <td>[mensaje, presidente, constitucional, perú, do...</td>\n",
       "    </tr>\n",
       "    <tr>\n",
       "      <th>1</th>\n",
       "      <td>mensaje-1957-mpu.txt</td>\n",
       "      <td>[MENSAJE DEL PRESIDENTE CONSTITUCIONAL DEL PER...</td>\n",
       "      <td>1957</td>\n",
       "      <td>MENSAJE DEL PRESIDENTE CONSTITUCIONAL DEL PERÚ...</td>\n",
       "      <td>Prado</td>\n",
       "      <td>Prado</td>\n",
       "      <td>1957-Prado</td>\n",
       "      <td>[MENSAJE, DEL, PRESIDENTE, CONSTITUCIONAL, DEL...</td>\n",
       "      <td>[mensaje, presidente, constitucional, perú, do...</td>\n",
       "    </tr>\n",
       "    <tr>\n",
       "      <th>2</th>\n",
       "      <td>mensaje-1958-mpu.txt</td>\n",
       "      <td>[MENSAJE DEL PRESIDENTE CONSTITUCIONAL DEL PER...</td>\n",
       "      <td>1958</td>\n",
       "      <td>MENSAJE DEL PRESIDENTE CONSTITUCIONAL DEL PERÚ...</td>\n",
       "      <td>Prado</td>\n",
       "      <td>Prado</td>\n",
       "      <td>1958-Prado</td>\n",
       "      <td>[MENSAJE, DEL, PRESIDENTE, CONSTITUCIONAL, DEL...</td>\n",
       "      <td>[mensaje, presidente, constitucional, perú, do...</td>\n",
       "    </tr>\n",
       "    <tr>\n",
       "      <th>3</th>\n",
       "      <td>mensaje-1959-mpu.txt</td>\n",
       "      <td>[MENSAJE DEL PRESIDENTE CONSTITUCIONAL DEL PER...</td>\n",
       "      <td>1959</td>\n",
       "      <td>MENSAJE DEL PRESIDENTE CONSTITUCIONAL DEL PERÚ...</td>\n",
       "      <td>Prado</td>\n",
       "      <td>Prado</td>\n",
       "      <td>1959-Prado</td>\n",
       "      <td>[MENSAJE, DEL, PRESIDENTE, CONSTITUCIONAL, DEL...</td>\n",
       "      <td>[mensaje, presidente, constitucional, perú, do...</td>\n",
       "    </tr>\n",
       "    <tr>\n",
       "      <th>4</th>\n",
       "      <td>mensaje-1960-mpu.txt</td>\n",
       "      <td>[MENSAJE DEL PRESIDENTE CONSTITUCIONAL DEL PER...</td>\n",
       "      <td>1960</td>\n",
       "      <td>MENSAJE DEL PRESIDENTE CONSTITUCIONAL DEL PERÚ...</td>\n",
       "      <td>Prado</td>\n",
       "      <td>Prado</td>\n",
       "      <td>1960-Prado</td>\n",
       "      <td>[MENSAJE, DEL, PRESIDENTE, CONSTITUCIONAL, DEL...</td>\n",
       "      <td>[mensaje, presidente, constitucional, perú, do...</td>\n",
       "    </tr>\n",
       "  </tbody>\n",
       "</table>\n",
       "</div>"
      ],
      "text/plain": [
       "               filename                                           raw text  \\\n",
       "0  mensaje-1956-mpu.txt  [MENSAJE DEL PRESIDENTE CONSTITUCIONAL DEL PER...   \n",
       "1  mensaje-1957-mpu.txt  [MENSAJE DEL PRESIDENTE CONSTITUCIONAL DEL PER...   \n",
       "2  mensaje-1958-mpu.txt  [MENSAJE DEL PRESIDENTE CONSTITUCIONAL DEL PER...   \n",
       "3  mensaje-1959-mpu.txt  [MENSAJE DEL PRESIDENTE CONSTITUCIONAL DEL PER...   \n",
       "4  mensaje-1960-mpu.txt  [MENSAJE DEL PRESIDENTE CONSTITUCIONAL DEL PER...   \n",
       "\n",
       "   year                                       cleaned text administration  \\\n",
       "0  1956  MENSAJE DEL PRESIDENTE CONSTITUCIONAL DEL PERÚ...          Prado   \n",
       "1  1957  MENSAJE DEL PRESIDENTE CONSTITUCIONAL DEL PERÚ...          Prado   \n",
       "2  1958  MENSAJE DEL PRESIDENTE CONSTITUCIONAL DEL PERÚ...          Prado   \n",
       "3  1959  MENSAJE DEL PRESIDENTE CONSTITUCIONAL DEL PERÚ...          Prado   \n",
       "4  1960  MENSAJE DEL PRESIDENTE CONSTITUCIONAL DEL PERÚ...          Prado   \n",
       "\n",
       "  president year-president                                    tokenized_words  \\\n",
       "0     Prado     1956-Prado  [MENSAJE, DEL, PRESIDENTE, CONSTITUCIONAL, DEL...   \n",
       "1     Prado     1957-Prado  [MENSAJE, DEL, PRESIDENTE, CONSTITUCIONAL, DEL...   \n",
       "2     Prado     1958-Prado  [MENSAJE, DEL, PRESIDENTE, CONSTITUCIONAL, DEL...   \n",
       "3     Prado     1959-Prado  [MENSAJE, DEL, PRESIDENTE, CONSTITUCIONAL, DEL...   \n",
       "4     Prado     1960-Prado  [MENSAJE, DEL, PRESIDENTE, CONSTITUCIONAL, DEL...   \n",
       "\n",
       "                                    normalized_sents  \n",
       "0  [mensaje, presidente, constitucional, perú, do...  \n",
       "1  [mensaje, presidente, constitucional, perú, do...  \n",
       "2  [mensaje, presidente, constitucional, perú, do...  \n",
       "3  [mensaje, presidente, constitucional, perú, do...  \n",
       "4  [mensaje, presidente, constitucional, perú, do...  "
      ]
     },
     "execution_count": 4,
     "metadata": {},
     "output_type": "execute_result"
    }
   ],
   "source": [
    "df.head()"
   ]
  },
  {
   "cell_type": "markdown",
   "metadata": {},
   "source": [
    "## K-means"
   ]
  },
  {
   "cell_type": "code",
   "execution_count": 5,
   "metadata": {},
   "outputs": [],
   "source": [
    "speechTFVectorizer = sklearn.feature_extraction.text.TfidfVectorizer(min_df=5, norm='l2')"
   ]
  }
 ],
 "metadata": {
  "kernelspec": {
   "display_name": "Python 3",
   "language": "python",
   "name": "python3"
  },
  "language_info": {
   "codemirror_mode": {
    "name": "ipython",
    "version": 3
   },
   "file_extension": ".py",
   "mimetype": "text/x-python",
   "name": "python",
   "nbconvert_exporter": "python",
   "pygments_lexer": "ipython3",
   "version": "3.6.9"
  }
 },
 "nbformat": 4,
 "nbformat_minor": 2
}
